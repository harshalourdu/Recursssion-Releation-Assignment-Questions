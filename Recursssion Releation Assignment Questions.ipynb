{
 "cells": [
  {
   "cell_type": "markdown",
   "id": "38983c4a-e238-4a69-a9fc-1f83936129c8",
   "metadata": {},
   "source": [
    "1. Find the value of T(2) for the rec%rrence relation T(n) = 3T(n-1) + 12n, given that T(0)=5."
   ]
  },
  {
   "cell_type": "markdown",
   "id": "2ee1d0ce-1319-4159-b2a2-b7f01f8ffbcc",
   "metadata": {},
   "source": [
    "Answer1. T(n)=2n+5"
   ]
  },
  {
   "cell_type": "markdown",
   "id": "4950e764-9c5f-4218-a179-63cb14bdefe8",
   "metadata": {},
   "source": [
    "2. Given a rec%rrence relation, solve it %sing the s%bstit%tion method:\n",
    "a. T(n) = T(n-1) + c\n",
    "b. T(n) = 2T(n/2) + n\n",
    "c. T(n) = 2T(n/2) + c\n",
    "d. T(n) = T(n/2) + c"
   ]
  },
  {
   "cell_type": "markdown",
   "id": "369fbb0d-c2d9-4593-8800-d5060a2e96a0",
   "metadata": {},
   "source": [
    "T(n)=2T(n/2)+Θ(1)\n",
    "     =2T(n/2)+k\n",
    "     =2{2T(n/4)+k)+k\n",
    "     =4T(n/4)+3k\n",
    "     =...\n",
    "     =n.T(1)+(n-1)k\n",
    "     =n.k+(n-1)k\n",
    "     =2nk-k\n",
    "     =O(n).\n",
    "\n",
    "\n",
    "\n",
    "First of all,I'd like to assume clearly that Θ(1)=k,some constant.\n",
    "\n",
    "Next,proceeding using substitution method, we get\n",
    "\n",
    " T(n)=2T(n/2)+Θ(1)\n",
    "     =2T(n/2)+k\n",
    "     =2{2T(n/4)+k)+k\n",
    "     =4T(n/4)+3k\n",
    "     =...\n",
    "     =n.T(1)+(n-1)k\n",
    "     =n.k+(n-1)k\n",
    "     =2nk-k\n",
    "     =O(n).\n",
    "\n",
    "If you assume it as T(n) <= c * n,you should start with T(1) and assume for T(n) to be correct,and then proceed to show that it is correct for T(n+1) by using the assumption for T(n). "
   ]
  },
  {
   "cell_type": "markdown",
   "id": "a135da6f-e3a1-4acb-8f0f-bae266040758",
   "metadata": {},
   "source": [
    "3. Given a recurrence relation, solve it using the recursive tree approach:\n",
    "a. T(n) = 2T(n-1) +1\n",
    "b. T(n) = 2T(n/2) + n"
   ]
  },
  {
   "cell_type": "code",
   "execution_count": null,
   "id": "466dff86-bfa9-4a9c-a26e-bb5cda3e509c",
   "metadata": {},
   "outputs": [],
   "source": []
  }
 ],
 "metadata": {
  "kernelspec": {
   "display_name": "Python 3 (ipykernel)",
   "language": "python",
   "name": "python3"
  },
  "language_info": {
   "codemirror_mode": {
    "name": "ipython",
    "version": 3
   },
   "file_extension": ".py",
   "mimetype": "text/x-python",
   "name": "python",
   "nbconvert_exporter": "python",
   "pygments_lexer": "ipython3",
   "version": "3.10.8"
  }
 },
 "nbformat": 4,
 "nbformat_minor": 5
}
